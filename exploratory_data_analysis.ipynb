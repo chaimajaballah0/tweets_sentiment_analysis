{
  "cells": [
    {
      "cell_type": "markdown",
      "metadata": {
        "id": "view-in-github",
        "colab_type": "text"
      },
      "source": [
        "<a href=\"https://colab.research.google.com/github/chaimajaballah0/tweets_sentiment_analysis/blob/main/exploratory_data_analysis.ipynb\" target=\"_parent\"><img src=\"https://colab.research.google.com/assets/colab-badge.svg\" alt=\"Open In Colab\"/></a>"
      ]
    },
    {
      "cell_type": "code",
      "execution_count": null,
      "metadata": {
        "id": "bJ6IeXe-IDtH"
      },
      "outputs": [],
      "source": [
        "import pandas as pd\n",
        "import numpy as np\n",
        "from collections import Counter\n",
        "import pickle\n",
        "# Visualization\n",
        "from wordcloud import WordCloud\n",
        "import matplotlib.pyplot as plt\n",
        "%matplotlib inline\n"
      ]
    },
    {
      "cell_type": "code",
      "execution_count": null,
      "metadata": {
        "id": "9LNyAPHyIDtN"
      },
      "outputs": [],
      "source": [
        "data = pd.read_pickle('data.pkl')"
      ]
    },
    {
      "cell_type": "code",
      "execution_count": null,
      "metadata": {
        "id": "ywFX7LvvIDtO",
        "outputId": "cb3d9998-e321-4895-9060-9c7b981c745e"
      },
      "outputs": [
        {
          "data": {
            "text/html": [
              "<div>\n",
              "<style scoped>\n",
              "    .dataframe tbody tr th:only-of-type {\n",
              "        vertical-align: middle;\n",
              "    }\n",
              "\n",
              "    .dataframe tbody tr th {\n",
              "        vertical-align: top;\n",
              "    }\n",
              "\n",
              "    .dataframe thead th {\n",
              "        text-align: right;\n",
              "    }\n",
              "</style>\n",
              "<table border=\"1\" class=\"dataframe\">\n",
              "  <thead>\n",
              "    <tr style=\"text-align: right;\">\n",
              "      <th></th>\n",
              "      <th>target</th>\n",
              "      <th>ids</th>\n",
              "      <th>date</th>\n",
              "      <th>flag</th>\n",
              "      <th>user</th>\n",
              "      <th>text</th>\n",
              "    </tr>\n",
              "  </thead>\n",
              "  <tbody>\n",
              "    <tr>\n",
              "      <th>0</th>\n",
              "      <td>NEGATIVE</td>\n",
              "      <td>1467810369</td>\n",
              "      <td>Mon Apr 06 22:19:45 PDT 2009</td>\n",
              "      <td>NO_QUERY</td>\n",
              "      <td>_TheSpecialOne_</td>\n",
              "      <td>@switchfoot http://twitpic.com/2y1zl - Awww, t...</td>\n",
              "    </tr>\n",
              "    <tr>\n",
              "      <th>1</th>\n",
              "      <td>NEGATIVE</td>\n",
              "      <td>1467810672</td>\n",
              "      <td>Mon Apr 06 22:19:49 PDT 2009</td>\n",
              "      <td>NO_QUERY</td>\n",
              "      <td>scotthamilton</td>\n",
              "      <td>is upset that he can't update his Facebook by ...</td>\n",
              "    </tr>\n",
              "    <tr>\n",
              "      <th>2</th>\n",
              "      <td>NEGATIVE</td>\n",
              "      <td>1467810917</td>\n",
              "      <td>Mon Apr 06 22:19:53 PDT 2009</td>\n",
              "      <td>NO_QUERY</td>\n",
              "      <td>mattycus</td>\n",
              "      <td>@Kenichan I dived many times for the ball. Man...</td>\n",
              "    </tr>\n",
              "    <tr>\n",
              "      <th>3</th>\n",
              "      <td>NEGATIVE</td>\n",
              "      <td>1467811184</td>\n",
              "      <td>Mon Apr 06 22:19:57 PDT 2009</td>\n",
              "      <td>NO_QUERY</td>\n",
              "      <td>ElleCTF</td>\n",
              "      <td>my whole body feels itchy and like its on fire</td>\n",
              "    </tr>\n",
              "    <tr>\n",
              "      <th>4</th>\n",
              "      <td>NEGATIVE</td>\n",
              "      <td>1467811193</td>\n",
              "      <td>Mon Apr 06 22:19:57 PDT 2009</td>\n",
              "      <td>NO_QUERY</td>\n",
              "      <td>Karoli</td>\n",
              "      <td>@nationwideclass no, it's not behaving at all....</td>\n",
              "    </tr>\n",
              "  </tbody>\n",
              "</table>\n",
              "</div>"
            ],
            "text/plain": [
              "     target         ids                          date      flag  \\\n",
              "0  NEGATIVE  1467810369  Mon Apr 06 22:19:45 PDT 2009  NO_QUERY   \n",
              "1  NEGATIVE  1467810672  Mon Apr 06 22:19:49 PDT 2009  NO_QUERY   \n",
              "2  NEGATIVE  1467810917  Mon Apr 06 22:19:53 PDT 2009  NO_QUERY   \n",
              "3  NEGATIVE  1467811184  Mon Apr 06 22:19:57 PDT 2009  NO_QUERY   \n",
              "4  NEGATIVE  1467811193  Mon Apr 06 22:19:57 PDT 2009  NO_QUERY   \n",
              "\n",
              "              user                                               text  \n",
              "0  _TheSpecialOne_  @switchfoot http://twitpic.com/2y1zl - Awww, t...  \n",
              "1    scotthamilton  is upset that he can't update his Facebook by ...  \n",
              "2         mattycus  @Kenichan I dived many times for the ball. Man...  \n",
              "3          ElleCTF    my whole body feels itchy and like its on fire   \n",
              "4           Karoli  @nationwideclass no, it's not behaving at all....  "
            ]
          },
          "execution_count": 10,
          "metadata": {},
          "output_type": "execute_result"
        }
      ],
      "source": [
        "data.head(5)"
      ]
    },
    {
      "cell_type": "code",
      "execution_count": null,
      "metadata": {
        "id": "aq5-EeyBIDtP",
        "outputId": "cc1e9075-fd14-4db9-db24-81097ff890c6"
      },
      "outputs": [
        {
          "name": "stdout",
          "output_type": "stream",
          "text": [
            "lenght of data is 1600000\n"
          ]
        }
      ],
      "source": [
        "print('lenght of data is', len(data))"
      ]
    },
    {
      "cell_type": "code",
      "execution_count": null,
      "metadata": {
        "id": "pW1sZ9cGIDtQ",
        "outputId": "27b3713d-bb5f-4831-f416-391cd75f70d4"
      },
      "outputs": [
        {
          "data": {
            "text/plain": [
              "(1600000, 6)"
            ]
          },
          "execution_count": 19,
          "metadata": {},
          "output_type": "execute_result"
        }
      ],
      "source": [
        "#Shape of data\n",
        "data.shape"
      ]
    },
    {
      "cell_type": "code",
      "execution_count": null,
      "metadata": {
        "id": "w78Z7w5CIDtR",
        "outputId": "b62f4706-3684-4d89-8f23-41e829bfb40e"
      },
      "outputs": [
        {
          "name": "stdout",
          "output_type": "stream",
          "text": [
            "<class 'pandas.core.frame.DataFrame'>\n",
            "RangeIndex: 1600000 entries, 0 to 1599999\n",
            "Data columns (total 6 columns):\n",
            " #   Column  Non-Null Count    Dtype \n",
            "---  ------  --------------    ----- \n",
            " 0   target  1600000 non-null  object\n",
            " 1   ids     1600000 non-null  int64 \n",
            " 2   date    1600000 non-null  object\n",
            " 3   flag    1600000 non-null  object\n",
            " 4   user    1600000 non-null  object\n",
            " 5   text    1600000 non-null  object\n",
            "dtypes: int64(1), object(5)\n",
            "memory usage: 73.2+ MB\n"
          ]
        }
      ],
      "source": [
        "#Data information\n",
        "data.info()"
      ]
    },
    {
      "cell_type": "code",
      "execution_count": null,
      "metadata": {
        "id": "V8e8dSQaIDtS",
        "outputId": "df3301a9-47b2-4e04-a6ff-a57f12d22db6"
      },
      "outputs": [
        {
          "data": {
            "text/plain": [
              "target    object\n",
              "ids        int64\n",
              "date      object\n",
              "flag      object\n",
              "user      object\n",
              "text      object\n",
              "dtype: object"
            ]
          },
          "execution_count": 17,
          "metadata": {},
          "output_type": "execute_result"
        }
      ],
      "source": [
        "#Data types of all coloumns\n",
        "data.dtypes"
      ]
    },
    {
      "cell_type": "code",
      "execution_count": null,
      "metadata": {
        "id": "kw5Zg8jZIDtT",
        "outputId": "abb41736-59ed-45d9-aa66-00b3d020988e"
      },
      "outputs": [
        {
          "data": {
            "text/plain": [
              "0"
            ]
          },
          "execution_count": 16,
          "metadata": {},
          "output_type": "execute_result"
        }
      ],
      "source": [
        "#Checking Null values\n",
        "np.sum(data.isnull().any(axis=1))"
      ]
    },
    {
      "cell_type": "code",
      "execution_count": null,
      "metadata": {
        "id": "VnMdcrxoIDtU",
        "outputId": "4bf4b0a2-293c-4471-a2f7-c1fc8d5781ec"
      },
      "outputs": [
        {
          "data": {
            "text/plain": [
              "Text(0.5, 1.0, 'Dataset labels distribuition')"
            ]
          },
          "execution_count": 7,
          "metadata": {},
          "output_type": "execute_result"
        },
        {
          "data": {
            "image/png": "[encoded data removed]",
            "text/plain": [
              "<Figure size 1152x576 with 1 Axes>"
            ]
          },
          "metadata": {
            "needs_background": "light"
          },
          "output_type": "display_data"
        }
      ],
      "source": [
        "#visualize the labels distribution in the dataset\n",
        "target_cnt = Counter(data.target)\n",
        "\n",
        "plt.figure(figsize=(16,8))\n",
        "plt.bar(target_cnt.keys(), target_cnt.values())\n",
        "plt.title(\"Dataset labels distribuition\")"
      ]
    },
    {
      "cell_type": "code",
      "execution_count": null,
      "metadata": {
        "id": "Z0QcBCQ8IDtV",
        "outputId": "9508a1b3-33cb-4dc8-e8a0-f58c4913a877"
      },
      "outputs": [
        {
          "data": {
            "text/html": [
              "<div>\n",
              "<style scoped>\n",
              "    .dataframe tbody tr th:only-of-type {\n",
              "        vertical-align: middle;\n",
              "    }\n",
              "\n",
              "    .dataframe tbody tr th {\n",
              "        vertical-align: top;\n",
              "    }\n",
              "\n",
              "    .dataframe thead th {\n",
              "        text-align: right;\n",
              "    }\n",
              "</style>\n",
              "<table border=\"1\" class=\"dataframe\">\n",
              "  <thead>\n",
              "    <tr style=\"text-align: right;\">\n",
              "      <th></th>\n",
              "      <th>target</th>\n",
              "      <th>ids</th>\n",
              "      <th>date</th>\n",
              "      <th>flag</th>\n",
              "      <th>user</th>\n",
              "      <th>text</th>\n",
              "    </tr>\n",
              "  </thead>\n",
              "  <tbody>\n",
              "    <tr>\n",
              "      <th>1248763</th>\n",
              "      <td>POSITIVE</td>\n",
              "      <td>1995896246</td>\n",
              "      <td>Mon Jun 01 14:12:59 PDT 2009</td>\n",
              "      <td>NO_QUERY</td>\n",
              "      <td>FAiiiNT</td>\n",
              "      <td>FCKYEAA I went a whole school day without twit...</td>\n",
              "    </tr>\n",
              "    <tr>\n",
              "      <th>556257</th>\n",
              "      <td>NEGATIVE</td>\n",
              "      <td>2204241421</td>\n",
              "      <td>Wed Jun 17 01:41:51 PDT 2009</td>\n",
              "      <td>NO_QUERY</td>\n",
              "      <td>aquadove</td>\n",
              "      <td>I am begging for sleep right about now  Extrem...</td>\n",
              "    </tr>\n",
              "    <tr>\n",
              "      <th>1547836</th>\n",
              "      <td>POSITIVE</td>\n",
              "      <td>2182862612</td>\n",
              "      <td>Mon Jun 15 13:44:03 PDT 2009</td>\n",
              "      <td>NO_QUERY</td>\n",
              "      <td>iellie</td>\n",
              "      <td>Oh Hai #squarespace can has iphone gift card? ...</td>\n",
              "    </tr>\n",
              "    <tr>\n",
              "      <th>551486</th>\n",
              "      <td>NEGATIVE</td>\n",
              "      <td>2203179188</td>\n",
              "      <td>Tue Jun 16 23:11:12 PDT 2009</td>\n",
              "      <td>NO_QUERY</td>\n",
              "      <td>augusto_young</td>\n",
              "      <td>@radioactivcheez  sureee!i follow them since t...</td>\n",
              "    </tr>\n",
              "    <tr>\n",
              "      <th>765465</th>\n",
              "      <td>NEGATIVE</td>\n",
              "      <td>2299468638</td>\n",
              "      <td>Tue Jun 23 12:57:29 PDT 2009</td>\n",
              "      <td>NO_QUERY</td>\n",
              "      <td>tvproduceradam</td>\n",
              "      <td>@protegeimages yep the taste of Chicago starts...</td>\n",
              "    </tr>\n",
              "    <tr>\n",
              "      <th>131869</th>\n",
              "      <td>NEGATIVE</td>\n",
              "      <td>1835624468</td>\n",
              "      <td>Mon May 18 06:24:26 PDT 2009</td>\n",
              "      <td>NO_QUERY</td>\n",
              "      <td>feedyourpig</td>\n",
              "      <td>@kyleelane any thoughts on how my sister can g...</td>\n",
              "    </tr>\n",
              "    <tr>\n",
              "      <th>697154</th>\n",
              "      <td>NEGATIVE</td>\n",
              "      <td>2253735063</td>\n",
              "      <td>Sat Jun 20 08:39:32 PDT 2009</td>\n",
              "      <td>NO_QUERY</td>\n",
              "      <td>davigirl1</td>\n",
              "      <td>I sure wish my husband didn't fish all the tim...</td>\n",
              "    </tr>\n",
              "    <tr>\n",
              "      <th>7186</th>\n",
              "      <td>NEGATIVE</td>\n",
              "      <td>1469720905</td>\n",
              "      <td>Tue Apr 07 07:13:22 PDT 2009</td>\n",
              "      <td>NO_QUERY</td>\n",
              "      <td>stewils</td>\n",
              "      <td>Looking forward to the dentists</td>\n",
              "    </tr>\n",
              "    <tr>\n",
              "      <th>1585052</th>\n",
              "      <td>POSITIVE</td>\n",
              "      <td>2190633136</td>\n",
              "      <td>Tue Jun 16 03:17:21 PDT 2009</td>\n",
              "      <td>NO_QUERY</td>\n",
              "      <td>bricyan357</td>\n",
              "      <td>I'm going home tomorrow!!! I heart Melbourne, ...</td>\n",
              "    </tr>\n",
              "    <tr>\n",
              "      <th>381801</th>\n",
              "      <td>NEGATIVE</td>\n",
              "      <td>2052855433</td>\n",
              "      <td>Sat Jun 06 02:17:19 PDT 2009</td>\n",
              "      <td>NO_QUERY</td>\n",
              "      <td>midnightnina</td>\n",
              "      <td>Went for a walk at the mall. Rained so hard, t...</td>\n",
              "    </tr>\n",
              "  </tbody>\n",
              "</table>\n",
              "</div>"
            ],
            "text/plain": [
              "           target         ids                          date      flag  \\\n",
              "1248763  POSITIVE  1995896246  Mon Jun 01 14:12:59 PDT 2009  NO_QUERY   \n",
              "556257   NEGATIVE  2204241421  Wed Jun 17 01:41:51 PDT 2009  NO_QUERY   \n",
              "1547836  POSITIVE  2182862612  Mon Jun 15 13:44:03 PDT 2009  NO_QUERY   \n",
              "551486   NEGATIVE  2203179188  Tue Jun 16 23:11:12 PDT 2009  NO_QUERY   \n",
              "765465   NEGATIVE  2299468638  Tue Jun 23 12:57:29 PDT 2009  NO_QUERY   \n",
              "131869   NEGATIVE  1835624468  Mon May 18 06:24:26 PDT 2009  NO_QUERY   \n",
              "697154   NEGATIVE  2253735063  Sat Jun 20 08:39:32 PDT 2009  NO_QUERY   \n",
              "7186     NEGATIVE  1469720905  Tue Apr 07 07:13:22 PDT 2009  NO_QUERY   \n",
              "1585052  POSITIVE  2190633136  Tue Jun 16 03:17:21 PDT 2009  NO_QUERY   \n",
              "381801   NEGATIVE  2052855433  Sat Jun 06 02:17:19 PDT 2009  NO_QUERY   \n",
              "\n",
              "                   user                                               text  \n",
              "1248763         FAiiiNT  FCKYEAA I went a whole school day without twit...  \n",
              "556257         aquadove  I am begging for sleep right about now  Extrem...  \n",
              "1547836          iellie  Oh Hai #squarespace can has iphone gift card? ...  \n",
              "551486    augusto_young  @radioactivcheez  sureee!i follow them since t...  \n",
              "765465   tvproduceradam  @protegeimages yep the taste of Chicago starts...  \n",
              "131869      feedyourpig  @kyleelane any thoughts on how my sister can g...  \n",
              "697154        davigirl1  I sure wish my husband didn't fish all the tim...  \n",
              "7186            stewils                   Looking forward to the dentists   \n",
              "1585052      bricyan357  I'm going home tomorrow!!! I heart Melbourne, ...  \n",
              "381801     midnightnina  Went for a walk at the mall. Rained so hard, t...  "
            ]
          },
          "execution_count": 8,
          "metadata": {},
          "output_type": "execute_result"
        }
      ],
      "source": [
        "import random\n",
        "random_idx_list = [random.randint(1,len(data.text)) for i in range(10)] # creates random indexes to choose from dataframe\n",
        "data.loc[random_idx_list,:].head(10) # Returns the rows with the index and display it"
      ]
    },
    {
      "cell_type": "code",
      "execution_count": null,
      "metadata": {
        "id": "OPMUhfTiIDtX"
      },
      "outputs": [],
      "source": [
        "data_cleaned = pd.read_pickle('data_cleaned.pkl')"
      ]
    },
    {
      "cell_type": "code",
      "execution_count": null,
      "metadata": {
        "id": "d2v92ETlIDtY"
      },
      "outputs": [],
      "source": [
        "#visualize the positive bag of words\n",
        "plt.figure(figsize = (20,20)) \n",
        "wc = WordCloud(max_words = 2000 , width = 1600 , height = 800).generate(\" \".join(data_cleaned[data_cleaned.target == 'POSITIVE'].text))\n",
        "plt.imshow(wc , interpolation = 'bilinear')"
      ]
    },
    {
      "cell_type": "code",
      "execution_count": null,
      "metadata": {
        "id": "Bm9b13YhIDtY"
      },
      "outputs": [],
      "source": [
        "#visualize the negative bag of words\n",
        "plt.figure(figsize = (20,20)) \n",
        "wc = WordCloud(max_words = 2000 , width = 1600 , height = 800).generate(\" \".join(data_cleaned[data_cleaned.target == 'NEGATIVE'].text))\n",
        "plt.imshow(wc , interpolation = 'bilinear')"
      ]
    }
  ],
  "metadata": {
    "kernelspec": {
      "display_name": "Python 3",
      "language": "python",
      "name": "python3"
    },
    "language_info": {
      "codemirror_mode": {
        "name": "ipython",
        "version": 3
      },
      "file_extension": ".py",
      "mimetype": "text/x-python",
      "name": "python",
      "nbconvert_exporter": "python",
      "pygments_lexer": "ipython3",
      "version": "3.10.6 (main, Nov 14 2022, 16:10:14) [GCC 11.3.0]"
    },
    "orig_nbformat": 4,
    "vscode": {
      "interpreter": {
        "hash": "916dbcbb3f70747c44a77c7bcd40155683ae19c65e1c03b4aa3499c5328201f1"
      }
    },
    "colab": {
      "provenance": [],
      "include_colab_link": true
    }
  },
  "nbformat": 4,
  "nbformat_minor": 0
}